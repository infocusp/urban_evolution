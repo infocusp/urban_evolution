{
 "cells": [
  {
   "cell_type": "code",
   "execution_count": 1,
   "metadata": {},
   "outputs": [],
   "source": [
    "import rasterio\n",
    "import numpy as np\n",
    "from sklearn.model_selection import train_test_split\n",
    "\n",
    "from typing import Any, Dict, Optional, List\n",
    "import utils\n",
    "import main\n",
    "import sys"
   ]
  },
  {
   "cell_type": "code",
   "execution_count": 34,
   "metadata": {},
   "outputs": [
    {
     "data": {
      "text/plain": [
       "-1.346652"
      ]
     },
     "execution_count": 34,
     "metadata": {},
     "output_type": "execute_result"
    }
   ],
   "source": [
    "# save_prediction"
   ]
  },
  {
   "cell_type": "code",
   "execution_count": 33,
   "metadata": {},
   "outputs": [
    {
     "name": "stdout",
     "output_type": "stream",
     "text": [
      "[[[ 0.09771803]]\n",
      "\n",
      " [[-1.16380941]]]\n",
      "[[[-1.44437387]]\n",
      "\n",
      " [[ 0.30727828]]]\n",
      "[[[-1.34665584]]\n",
      "\n",
      " [[-0.85653113]]]\n"
     ]
    }
   ],
   "source": [
    "a=np.random.randn(2,1,1)\n",
    "b=np.random.randn(2,1,1)\n",
    "print(a)\n",
    "print(b)\n",
    "l=a+b\n",
    "print(l)"
   ]
  },
  {
   "cell_type": "markdown",
   "metadata": {},
   "source": [
    "## Not useful "
   ]
  },
  {
   "cell_type": "code",
   "execution_count": null,
   "metadata": {},
   "outputs": [],
   "source": [
    "# steps in test time:\n",
    "    # two 3D np arrays: pred_feat and pred_label\n",
    "    # add padding in case they have incompatible shape\n",
    "    # concatenate to get a single 3D array\n",
    "    # get a valid_mask: A 2d array which has nan if any of the bands value is nan for every pixel.\n",
    "    # filtered_stacked_data: nan for all bands if any band is nan otherwise the actual values \n",
    "    # pred_feat is the 9 bands \n",
    "    # pred label is the 2D array(1st band)\n",
    "    # we compute pred_feat_mask and pred_label_mask which is useless\n",
    "    # \n"
   ]
  },
  {
   "cell_type": "code",
   "execution_count": null,
   "metadata": {},
   "outputs": [],
   "source": [
    "# Done with scale, resolution and zoom level.\n",
    "# scale is basivally how \n",
    "# Each band of an image can have diff scale and it can change depending on the image, the band is present in.\n",
    "# Earth engine looks at the scale specified y the output and then finds out the approprate level of image pyramid to use as input.\n"
   ]
  },
  {
   "cell_type": "code",
   "execution_count": null,
   "metadata": {},
   "outputs": [],
   "source": [
    "# when we ingect an image in an earth engine:\n",
    "    # It is ingested at native resolution(the lowest level of image pyramid)\n",
    "    # the image data are also aggregated to create higher pyramid levels.\n",
    "    # The image data is aggregated until it fits within a 256*256 pixel tile.\n",
    "    # "
   ]
  },
  {
   "cell_type": "code",
   "execution_count": null,
   "metadata": {},
   "outputs": [],
   "source": [
    "# Scale==pixel resolution\n",
    "# Zoom level\n",
    "# Image assests exists at multiple scales, in image pyramid\n",
    "# The lowest level of the image is the image at native resolution. During ingestion the data are aggregated to create high pyramid levels. The two ways of aggregration are:\n",
    "    # For continous values images: As we level up in pyramid, we take mean of 2*2 pixels \n",
    "    # For discrete values images: As we level up in pyramid, we take a sample (usually the top left pixel) of pixels at the next lower level\n",
    "# We do the agregration till the entire image fits within 256*256 pixel tile.\n",
    "# Each of this undivided squares which is divided  into 4 squares is called a tile.\n",
    "# "
   ]
  },
  {
   "cell_type": "code",
   "execution_count": 5,
   "metadata": {},
   "outputs": [
    {
     "data": {
      "text/plain": [
       "'f.read() reads the entire contents of the file into memory.\\n    BytesIO(f.read()) wraps the file bytes into a BytesIO object so it can be treated like a file object.\\n\\nLoad the TIFF File:\\n\\n    rasterio_open(file_bytes) is used to open the file using the rasterio library, which is designed for working with geospatial raster data (e.g., GeoTIFF files).\\n    This function converts the in-memory BytesIO object into a raster data object.\\n\\nReturn the TIFF Object:\\n\\n    The TIFF file object is returned for further processing'"
      ]
     },
     "execution_count": 5,
     "metadata": {},
     "output_type": "execute_result"
    }
   ],
   "source": [
    "#  we have an instance(object) to the GCSfilesystem, we can reda , write, manage files, open files directly from Google Cloud Storage without downloading them locally.\n",
    "# Now we can open the files with this opject and read it in binary mode.\n",
    "# Read File Data:\n",
    "\"\"\"f.read() reads the entire contents of the file into memory.\n",
    "    BytesIO(f.read()) wraps the file bytes into a BytesIO object so it can be treated like a file object.\n",
    "\n",
    "Load the TIFF File:\n",
    "\n",
    "    rasterio_open(file_bytes) is used to open the file using the rasterio library, which is designed for working with geospatial raster data (e.g., GeoTIFF files).\n",
    "    This function converts the in-memory BytesIO object into a raster data object.\n",
    "\n",
    "Return the TIFF Object:\n",
    "\n",
    "    The TIFF file object is returned for further processing\"\"\"\n",
    "# Google cloud has multiple projects\n",
    "# each project has its won resources(buckets, databases and compute instances)\n",
    "# storage.Client(project=PROJECT_ID) creates an object that allows you to interact with resources belonging to a specific project identified by PROJECT_ID.\n",
    "# Buckets are the top-level containers in Google Cloud Storage (like a drive or main folder).\n",
    "# Inside a bucket, you can organize files using folder-like paths (e.g., folder1/subfolder/file.txt).\n",
    "# Use the storage.Client to get a reference to the bucket with client.get_bucket(bucket_name)\n",
    "\n",
    "\n",
    "# gcs_path is the path of the folder relative to your google cloud storage(has gs://bucket_name/path_to_folder)\n",
    "# function that retrieves the bucket name file name on which the tiff is stored\n",
    "# client.get_bucket(bucket_name) return an object that refers to that particular bucket\n",
    "# In the end we need to close the connection to google cloud storage \n",
    "\n",
    "# Ideally, we get two tiff files(features and labels), the number of data points are m*n where each data point has b bands\n",
    "# Removing the points which has -1 values (corresponsiding label)\n",
    "# divioding the grid into train test split \n",
    "# "
   ]
  },
  {
   "cell_type": "code",
   "execution_count": 6,
   "metadata": {},
   "outputs": [],
   "source": [
    "# test_features\n",
    "# test_features_padded\n",
    "# stacked_data\n",
    "# valid_mask a 2D which is nan if any of the bands is nan or label is -1\n",
    "# filtered_stacked_data is 3D on the basis of valid_mask (all 10 bands(9+label) is nan if valid_mask is nan otherwise org feature +label) \n",
    "# pred_feat is the 9 bands features\n",
    "# pred_label is the firts channel\n",
    "# nan_pred_feat and nan_pred_label are the  \n"
   ]
  },
  {
   "cell_type": "code",
   "execution_count": 12,
   "metadata": {},
   "outputs": [
    {
     "name": "stdout",
     "output_type": "stream",
     "text": [
      "[[ 3. -1. -1.  3.]\n",
      " [ 3.  1.  1.  3.]\n",
      " [ 3. -1. -1.  3.]\n",
      " [ 3. -1. -1.  2.]\n",
      " [ 3. -1. -1.  3.]\n",
      " [ 3.  1.  1.  3.]\n",
      " [ 3. -1. -1.  3.]\n",
      " [ 3. -1. -1.  2.]]\n"
     ]
    }
   ],
   "source": [
    "# even if it ignores nan, if all values are nan, it gives nan.\n",
    "\n",
    "import numpy as np\n",
    "label_np=np.array([[3., -1, -1., 3.],\n",
    "        [3., 1., 1., 3.],[3., -1, -1., 3.],\n",
    "        [3., -1., -1., 2.],[3., -1, -1., 3.],\n",
    "        [3., 1., 1., 3.],[3., -1, -1., 3.],\n",
    "        [3., -1., -1., 2.]])\n",
    "print(label_np)\n",
    "\n",
    "import numpy as np\n",
    "\n",
    "label_np=np.where(label_np==-1, np.nan, label_np)\n",
    "print(label_np)\n",
    "data=[]\n",
    "for i in range(1,6):\n",
    "        for j in range(1,3):\n",
    "                temp_data=label_np[i-1:i+1,j-1:j+1]\n",
    "                print(temp_data)\n",
    "                print(np.nanmean(temp_data,axis=(0,1)))\n",
    "\n",
    "                data.append(np.nanmean(temp_data,axis=(0,1)))\n",
    "                #     label.append(data[0,i,j])\n",
    "                    \n",
    "print(data)"
   ]
  },
  {
   "cell_type": "code",
   "execution_count": 13,
   "metadata": {},
   "outputs": [
    {
     "name": "stdout",
     "output_type": "stream",
     "text": [
      "[[nan nan]\n",
      " [nan nan]]\n"
     ]
    },
    {
     "name": "stderr",
     "output_type": "stream",
     "text": [
      "/tmp/ipykernel_18005/3690321154.py:3: RuntimeWarning: Mean of empty slice\n",
      "  np.nanmean(temp,axis=1)\n"
     ]
    },
    {
     "data": {
      "text/plain": [
       "array([nan, nan])"
      ]
     },
     "execution_count": 13,
     "metadata": {},
     "output_type": "execute_result"
    }
   ],
   "source": [
    "temp=label_np[1,:2,1:3]\n",
    "print(temp)\n",
    "np.nanmean(temp,axis=1)"
   ]
  },
  {
   "cell_type": "code",
   "execution_count": 7,
   "metadata": {},
   "outputs": [
    {
     "name": "stdout",
     "output_type": "stream",
     "text": [
      "[[[ 3. nan nan  3.]\n",
      "  [ 3.  1.  1.  3.]]\n",
      "\n",
      " [[ 3. nan nan  3.]\n",
      "  [ 3. nan nan  2.]]]\n",
      "[[ True False False  True]\n",
      " [ True False False  True]]\n",
      "[[3. 3. 3. 3.]\n",
      " [3. 3. 3. 2.]]\n",
      "[[[3. 6. 7. 3.]\n",
      "  [3. 1. 1. 3.]]\n",
      "\n",
      " [[3. 1. 2. 3.]\n",
      "  [3. 4. 1. 2.]]]\n",
      "[3.25 2.75]\n",
      "(2, 4, 1, 1)\n"
     ]
    }
   ],
   "source": [
    "import numpy as np\n",
    "label_np=np.array([[[3., -1, -1., 3.],\n",
    "        [3., 1., 1., 3.]],[[3., -1, -1., 3.],\n",
    "        [3., -1., -1., 2.]]])\n",
    "label_np=np.where(label_np==-1, np.nan, label_np)\n",
    "print(label_np)\n",
    "mask=~np.isnan(label_np).any(axis=0)\n",
    "print(mask)\n",
    "masked_train_labels =label_np[:,mask]\n",
    "print(masked_train_labels)\n",
    "data=np.array([[[3., 6, 7., 3.],\n",
    "        [3., 1., 1., 3.]],[[3., 1, 2., 3.],\n",
    "        [3., 4., 1., 2.]]])\n",
    "print(data)\n",
    "d=data[:,0:2,0:2]\n",
    "print(d.mean(axis=(1,2)))\n",
    "a=[]\n",
    "a.append(np.random.randn(4,1,1))\n",
    "a.append(np.random.randn(4,1,1))\n",
    "b=np.array(a)\n",
    "print(b.shape)\n"
   ]
  },
  {
   "cell_type": "code",
   "execution_count": 8,
   "metadata": {},
   "outputs": [
    {
     "name": "stdout",
     "output_type": "stream",
     "text": [
      "[[[False  True  True False]\n",
      "  [False False False False]]\n",
      "\n",
      " [[False  True  True False]\n",
      "  [False  True  True False]]]\n",
      "[[False  True  True False]\n",
      " [False  True  True False]]\n",
      "last one [[False  True  True False]\n",
      " [False  True  True False]]\n"
     ]
    }
   ],
   "source": [
    "label_np=np.array([[[3., -1, -1., 3.],\n",
    "        [3., 1., 1., 3.]],[[3., -1, -1., 3.],\n",
    "        [3., -1., -1., 3.]]])\n",
    "label_np=np.where(label_np==-1,np.nan,label_np)\n",
    "nan_label=np.isnan(label_np)\n",
    "print(nan_label)\n",
    "nan_label_2=np.any(np.isnan(label_np),axis=0)\n",
    "print(nan_label_2)\n",
    "nan_label_3= np.isnan(label_np).any(axis=0)\n",
    "print(\"last one\",nan_label_3)"
   ]
  },
  {
   "cell_type": "code",
   "execution_count": 9,
   "metadata": {},
   "outputs": [
    {
     "name": "stdout",
     "output_type": "stream",
     "text": [
      "block size 4\n",
      "0 0\n",
      "0 4\n",
      "4 0\n",
      "4 4\n"
     ]
    }
   ],
   "source": [
    "import rasterio\n",
    "from rasterio.windows import Window\n",
    "\n",
    "height=8\n",
    "width=8\n",
    "block_coverage=1\n",
    "total_blocks=4\n",
    "total_pixels = height*width\n",
    "pixels_covered = total_pixels*block_coverage\n",
    "block_size = int(np.sqrt(pixels_covered/total_blocks))\n",
    "print(\"block size\",block_size)\n",
    "\n",
    "# Generate windows for each grid\n",
    "windows = []\n",
    "for i in range(0, height-block_size+1, block_size):\n",
    "    for j in range(0, width-block_size+1, block_size):\n",
    "        print(i,j)\n",
    "\n",
    "        windows.append(Window(j, i, block_size, block_size))"
   ]
  },
  {
   "cell_type": "markdown",
   "metadata": {},
   "source": [
    "## Arguments to be passed"
   ]
  },
  {
   "cell_type": "code",
   "execution_count": 2,
   "metadata": {},
   "outputs": [],
   "source": [
    "train_feat_file=\"/home/nikki/Downloads/urbanization_data_export_22122024_2010-01-01_urban_feat.tif\"\n",
    "train_label_file=\"/home/nikki/Downloads/urbanization_data_export_22122024_2010-01-01_urban_label.tif\"\n",
    "test_feat_file=\"/home/nikki/Downloads/urbanization_data_export_22122024_2015-01-01_urban_feat.tiff\"\n",
    "test_label_file=\"/home/nikki/Downloads/urbanization_data_export_22122024_2015-01-01_urban_label.tiff\"\n",
    "output_path=\"output_file_conv_static.tiff\"\n",
    "\n",
    "block_coverage=0.3\n",
    "total_blocks=100\n",
    "test_size=0.3"
   ]
  },
  {
   "cell_type": "markdown",
   "metadata": {},
   "source": [
    "## Loading the input files "
   ]
  },
  {
   "cell_type": "code",
   "execution_count": 3,
   "metadata": {},
   "outputs": [],
   "source": [
    "\n",
    "train_features=utils.rasterio_open(train_feat_file)\n",
    "train_labels=utils.rasterio_open(train_label_file)\n",
    "test_features=utils.rasterio_open(test_feat_file)\n",
    "test_label=utils.rasterio_open(test_label_file)\n",
    "\n",
    "\n"
   ]
  },
  {
   "cell_type": "code",
   "execution_count": 9,
   "metadata": {},
   "outputs": [
    {
     "name": "stdout",
     "output_type": "stream",
     "text": [
      "2238\n",
      "2211\n"
     ]
    },
    {
     "data": {
      "text/plain": [
       "(9, 2211, 2238)"
      ]
     },
     "execution_count": 9,
     "metadata": {},
     "output_type": "execute_result"
    }
   ],
   "source": [
    "print(train_features.metadata['width'])\n",
    "print(train_features.metadata['height'])\n",
    "train_features.data.shape"
   ]
  },
  {
   "cell_type": "code",
   "execution_count": 29,
   "metadata": {},
   "outputs": [
    {
     "data": {
      "text/plain": [
       "('pdsi',\n",
       " 'pr',\n",
       " 'pr_1',\n",
       " 'tmmn',\n",
       " 'tmmx',\n",
       " 'NDVI',\n",
       " 'EVI',\n",
       " 'LC_Type1',\n",
       " 'population_density')"
      ]
     },
     "execution_count": 29,
     "metadata": {},
     "output_type": "execute_result"
    }
   ],
   "source": [
    "train_features.bands"
   ]
  },
  {
   "cell_type": "code",
   "execution_count": 4,
   "metadata": {},
   "outputs": [],
   "source": [
    "train_feature=np.concatenate((train_features.data[0,:,:].reshape(1,train_features.metadata['height'],train_features.metadata['width'] ), train_features.data[2:,:,:]), axis=0)\n",
    "test_feature= np.concatenate((test_features.data[0,:,:].reshape(1,test_features.metadata['height'],test_features.metadata['width']),test_features.data[2:,:,:]),axis=0)\n"
   ]
  },
  {
   "cell_type": "code",
   "execution_count": 6,
   "metadata": {},
   "outputs": [
    {
     "name": "stdout",
     "output_type": "stream",
     "text": [
      "(8, 2211, 2238)\n",
      "(8, 2211, 2238)\n"
     ]
    }
   ],
   "source": [
    "print(train_feature.shape)\n",
    "print(test_feature.shape)"
   ]
  },
  {
   "cell_type": "markdown",
   "metadata": {},
   "source": [
    "## Pre-processing"
   ]
  },
  {
   "cell_type": "code",
   "execution_count": 5,
   "metadata": {},
   "outputs": [
    {
     "name": "stdout",
     "output_type": "stream",
     "text": [
      "block size 121\n",
      "block size 121\n"
     ]
    },
    {
     "name": "stderr",
     "output_type": "stream",
     "text": [
      "  0%|          | 0/226 [00:00<?, ?it/s]/home/nikki/Downloads/urbanan_google_earth/main.py:289: RuntimeWarning: Mean of empty slice\n",
      "  new_data.append(np.concatenate(((np.nanmean(mean_data,axis=(1,2))),static_data),axis=0 ))\n",
      "100%|██████████| 226/226 [12:23<00:00,  3.29s/it]   \n",
      "100%|██████████| 98/98 [01:12<00:00,  1.35it/s]\n",
      "100%|██████████| 324/324 [03:45<00:00,  1.44it/s]\n"
     ]
    },
    {
     "name": "stdout",
     "output_type": "stream",
     "text": [
      "(3093714, 15) (3093714,)\n",
      "(1341522, 15) (1341522,)\n",
      "(4435236, 15) (4435236,)\n"
     ]
    }
   ],
   "source": [
    "x_train,y_train,x_val,y_val,x_test,y_test=main.pre_process(train_feature,train_labels.data,test_feature, test_label.data, block_coverage, total_blocks,test_size)\n"
   ]
  },
  {
   "cell_type": "code",
   "execution_count": 13,
   "metadata": {},
   "outputs": [
    {
     "name": "stdout",
     "output_type": "stream",
     "text": [
      "(3093714, 15)\n",
      "(3093714, 1)\n",
      "(4435236, 15)\n",
      "(4435236,)\n",
      "(1341522, 15)\n",
      "(1341522,)\n"
     ]
    }
   ],
   "source": [
    "print(x_train.shape)\n",
    "print(y_train.shape)\n",
    "print(x_test.shape)\n",
    "print(y_test.shape)\n",
    "print(x_val.shape)\n",
    "print(y_val.shape)"
   ]
  },
  {
   "cell_type": "code",
   "execution_count": 32,
   "metadata": {},
   "outputs": [
    {
     "name": "stdout",
     "output_type": "stream",
     "text": [
      "(2124782, 15)\n",
      "(2124782, 1)\n",
      "(3003316, 15)\n",
      "(3003316,)\n",
      "(878678, 15)\n",
      "(878678,)\n"
     ]
    }
   ],
   "source": [
    "nan_x_train = ~np.any(np.isnan(x_train),axis=1)\n",
    "nan_x_test = ~np.any(np.isnan(x_test),axis=1)\n",
    "nan_x_val = ~np.any(np.isnan(x_val),axis=1)\n",
    "\n",
    "x_train=x_train[nan_x_train]\n",
    "x_test=x_test[nan_x_test]\n",
    "x_val=x_val[nan_x_val]\n",
    "\n",
    "y_train=y_train[nan_x_train]\n",
    "y_test=y_test[nan_x_test]\n",
    "y_val=y_val[nan_x_val]\n",
    "\n",
    "print(x_train.shape)\n",
    "print(y_train.shape)\n",
    "print(x_test.shape)\n",
    "print(y_test.shape)\n",
    "print(x_val.shape)\n",
    "print(y_val.shape)\n",
    "\n",
    "\n",
    "# nan_y_train=~np.isnan(y_test).reshape(4435236)\n",
    "\n"
   ]
  },
  {
   "cell_type": "markdown",
   "metadata": {},
   "source": [
    "### Correlations Matrix"
   ]
  },
  {
   "cell_type": "code",
   "execution_count": 6,
   "metadata": {},
   "outputs": [
    {
     "name": "stdout",
     "output_type": "stream",
     "text": [
      "(3093714, 1)\n",
      "(3093714, 16)\n",
      "[nan nan nan nan nan nan nan nan nan nan nan nan nan nan nan nan]\n",
      "[nan nan nan nan nan nan nan nan nan nan nan nan nan nan nan nan]\n",
      "[nan nan nan nan nan nan nan nan nan nan nan nan nan nan nan nan]\n"
     ]
    }
   ],
   "source": [
    "y_train=y_train.reshape(len(y_train),1)\n",
    "print(y_train.shape)\n",
    "train=np.concatenate((x_train, y_train), axis=1)\n",
    "print(train.shape)\n",
    "col_means = np.mean(train,axis=0)\n",
    "print(col_means)\n",
    "train_normalized = (train - col_means) / np.std(train, axis=0)\n",
    "print(np.mean(train_normalized,axis=0))\n",
    "print(np.std(train_normalized,axis=0))"
   ]
  },
  {
   "cell_type": "code",
   "execution_count": 7,
   "metadata": {},
   "outputs": [],
   "source": [
    "coerr=np.corrcoef(train, rowvar=False)"
   ]
  },
  {
   "cell_type": "code",
   "execution_count": 8,
   "metadata": {},
   "outputs": [
    {
     "data": {
      "text/plain": [
       "array([[nan, nan, nan, nan, nan, nan, nan, nan, nan, nan, nan, nan, nan,\n",
       "        nan, nan, nan],\n",
       "       [nan, nan, nan, nan, nan, nan, nan, nan, nan, nan, nan, nan, nan,\n",
       "        nan, nan, nan],\n",
       "       [nan, nan, nan, nan, nan, nan, nan, nan, nan, nan, nan, nan, nan,\n",
       "        nan, nan, nan],\n",
       "       [nan, nan, nan, nan, nan, nan, nan, nan, nan, nan, nan, nan, nan,\n",
       "        nan, nan, nan],\n",
       "       [nan, nan, nan, nan, nan, nan, nan, nan, nan, nan, nan, nan, nan,\n",
       "        nan, nan, nan],\n",
       "       [nan, nan, nan, nan, nan, nan, nan, nan, nan, nan, nan, nan, nan,\n",
       "        nan, nan, nan],\n",
       "       [nan, nan, nan, nan, nan, nan, nan, nan, nan, nan, nan, nan, nan,\n",
       "        nan, nan, nan],\n",
       "       [nan, nan, nan, nan, nan, nan, nan, nan, nan, nan, nan, nan, nan,\n",
       "        nan, nan, nan],\n",
       "       [nan, nan, nan, nan, nan, nan, nan, nan, nan, nan, nan, nan, nan,\n",
       "        nan, nan, nan],\n",
       "       [nan, nan, nan, nan, nan, nan, nan, nan, nan, nan, nan, nan, nan,\n",
       "        nan, nan, nan],\n",
       "       [nan, nan, nan, nan, nan, nan, nan, nan, nan, nan, nan, nan, nan,\n",
       "        nan, nan, nan],\n",
       "       [nan, nan, nan, nan, nan, nan, nan, nan, nan, nan, nan, nan, nan,\n",
       "        nan, nan, nan],\n",
       "       [nan, nan, nan, nan, nan, nan, nan, nan, nan, nan, nan, nan, nan,\n",
       "        nan, nan, nan],\n",
       "       [nan, nan, nan, nan, nan, nan, nan, nan, nan, nan, nan, nan, nan,\n",
       "        nan, nan, nan],\n",
       "       [nan, nan, nan, nan, nan, nan, nan, nan, nan, nan, nan, nan, nan,\n",
       "        nan, nan, nan],\n",
       "       [nan, nan, nan, nan, nan, nan, nan, nan, nan, nan, nan, nan, nan,\n",
       "        nan, nan, nan]])"
      ]
     },
     "execution_count": 8,
     "metadata": {},
     "output_type": "execute_result"
    }
   ],
   "source": [
    "coerr"
   ]
  },
  {
   "cell_type": "code",
   "execution_count": 9,
   "metadata": {},
   "outputs": [
    {
     "data": {
      "text/plain": [
       "['pdsi',\n",
       " 'pr',\n",
       " 'pr',\n",
       " 'tmmn',\n",
       " 'tmmx',\n",
       " 'NDVI',\n",
       " 'EVI',\n",
       " 'LC_Type1',\n",
       " 'population_density',\n",
       " 'urban']"
      ]
     },
     "execution_count": 9,
     "metadata": {},
     "output_type": "execute_result"
    }
   ],
   "source": [
    "['pdsi','pr','pr','tmmn','tmmx','NDVI','EVI','LC_Type1','population_density','urban']"
   ]
  },
  {
   "cell_type": "code",
   "execution_count": 10,
   "metadata": {},
   "outputs": [
    {
     "name": "stderr",
     "output_type": "stream",
     "text": [
      "/home/nikki/Downloads/venv/lib/python3.12/site-packages/seaborn/matrix.py:202: RuntimeWarning: All-NaN slice encountered\n",
      "  vmin = np.nanmin(calc_data)\n",
      "/home/nikki/Downloads/venv/lib/python3.12/site-packages/seaborn/matrix.py:207: RuntimeWarning: All-NaN slice encountered\n",
      "  vmax = np.nanmax(calc_data)\n"
     ]
    },
    {
     "data": {
      "image/png": "[encoded data removed]",
      "text/plain": [
       "<Figure size 1200x800 with 2 Axes>"
      ]
     },
     "metadata": {},
     "output_type": "display_data"
    }
   ],
   "source": [
    "import matplotlib.pyplot as plt\n",
    "import seaborn as sns\n",
    "\n",
    "plt.figure(figsize=(12, 8))\n",
    "sns.heatmap(coerr, annot=True, xticklabels=['Palmer Drought Severity Index','Precipitation accumulation',\n",
    "'min temp','max temp','16-day NDVI avg','16-day EVI avg','LC_Type1','population_density','urban'], yticklabels=['Palmer Drought Severity Index','Precipitation accumulation',\n",
    "'min temp','max temp','16-day NDVI avg','16-day EVI avg','LC_Type1','population_density','urban'], cmap='coolwarm', linewidths=0.5)\n",
    "plt.title('Correlation Heatmap')\n",
    "plt.show()"
   ]
  },
  {
   "cell_type": "markdown",
   "metadata": {},
   "source": [
    "## Training"
   ]
  },
  {
   "cell_type": "code",
   "execution_count": 33,
   "metadata": {},
   "outputs": [],
   "source": [
    "y_train= y_train.astype(np.int32)\n",
    "x_train=x_train.astype(np.float64)\n",
    "x_val=x_val.astype(np.float64)\n",
    "y_val=y_val.astype(np.int32)\n",
    "x_test=x_test.astype(np.float64)\n",
    "y_test=y_test.astype(np.int32)"
   ]
  },
  {
   "cell_type": "code",
   "execution_count": 34,
   "metadata": {},
   "outputs": [
    {
     "name": "stderr",
     "output_type": "stream",
     "text": [
      "/home/nikki/Downloads/venv/lib/python3.12/site-packages/sklearn/preprocessing/_label.py:93: DataConversionWarning: A column-vector y was passed when a 1d array was expected. Please change the shape of y to (n_samples, ), for example using ravel().\n",
      "  y = column_or_1d(y, warn=True)\n",
      "/home/nikki/Downloads/venv/lib/python3.12/site-packages/sklearn/preprocessing/_label.py:129: DataConversionWarning: A column-vector y was passed when a 1d array was expected. Please change the shape of y to (n_samples, ), for example using ravel().\n",
      "  y = column_or_1d(y, dtype=self.classes_.dtype, warn=True)\n",
      "/home/nikki/Downloads/venv/lib/python3.12/site-packages/sklearn/utils/deprecation.py:151: FutureWarning: 'force_all_finite' was renamed to 'ensure_all_finite' in 1.6 and will be removed in 1.8.\n",
      "  warnings.warn(\n"
     ]
    },
    {
     "name": "stdout",
     "output_type": "stream",
     "text": [
      "[LightGBM] [Info] Auto-choosing row-wise multi-threading, the overhead of testing was 0.019087 seconds.\n",
      "You can set `force_row_wise=true` to remove the overhead.\n",
      "And if memory is not enough, you can set `force_col_wise=true`.\n",
      "[LightGBM] [Info] Total Bins 3553\n",
      "[LightGBM] [Info] Number of data points in the train set: 2124782, number of used features: 15\n",
      "[LightGBM] [Info] Start training from score -5.972067\n",
      "[LightGBM] [Info] Start training from score -7.375494\n",
      "[LightGBM] [Info] Start training from score -6.251169\n",
      "[LightGBM] [Info] Start training from score -0.005117\n"
     ]
    }
   ],
   "source": [
    "import lightgbm as lgbm\n",
    "model = lgbm.LGBMClassifier(objective=\"multiclass\", num_class=4)\n",
    "main.train(model,x_train,y_train,x_val,y_val)\n"
   ]
  },
  {
   "cell_type": "markdown",
   "metadata": {},
   "source": [
    "## Testing"
   ]
  },
  {
   "cell_type": "code",
   "execution_count": 38,
   "metadata": {},
   "outputs": [
    {
     "name": "stderr",
     "output_type": "stream",
     "text": [
      "/home/nikki/Downloads/venv/lib/python3.12/site-packages/sklearn/utils/deprecation.py:151: FutureWarning: 'force_all_finite' was renamed to 'ensure_all_finite' in 1.6 and will be removed in 1.8.\n",
      "  warnings.warn(\n"
     ]
    }
   ],
   "source": [
    "test_pred,cm,report=main.predict(model,x_train,y_train)"
   ]
  },
  {
   "cell_type": "code",
   "execution_count": 39,
   "metadata": {},
   "outputs": [
    {
     "name": "stdout",
     "output_type": "stream",
     "text": [
      "              precision    recall  f1-score   support\n",
      "\n",
      "           0       0.21      0.09      0.13      5416\n",
      "           1       0.11      0.05      0.07      1331\n",
      "           2       0.12      0.02      0.03      4097\n",
      "           3       1.00      1.00      1.00   2113938\n",
      "\n",
      "    accuracy                           0.99   2124782\n",
      "   macro avg       0.36      0.29      0.31   2124782\n",
      "weighted avg       0.99      0.99      0.99   2124782\n",
      "\n"
     ]
    }
   ],
   "source": [
    "print(report)"
   ]
  },
  {
   "cell_type": "code",
   "execution_count": 40,
   "metadata": {},
   "outputs": [
    {
     "name": "stdout",
     "output_type": "stream",
     "text": [
      "[[    484       8       1    4923]\n",
      " [     22      63       2    1244]\n",
      " [     25       2      71    3999]\n",
      " [   1734     478     530 2111196]]\n"
     ]
    }
   ],
   "source": [
    "print(cm)"
   ]
  },
  {
   "cell_type": "markdown",
   "metadata": {},
   "source": [
    "## Saving"
   ]
  },
  {
   "cell_type": "code",
   "execution_count": 16,
   "metadata": {},
   "outputs": [
    {
     "name": "stdout",
     "output_type": "stream",
     "text": [
      "(2211, 2239)\n",
      "(4950429,)\n",
      "4950429\n",
      "4950429 (4950429,) 3003316\n",
      "| 0.01, 0.00, 67.81|\n",
      "| 0.00,-0.01, 37.58|\n",
      "| 0.00, 0.00, 1.00|\n"
     ]
    },
    {
     "ename": "ValueError",
     "evalue": "NumPy boolean array indexing assignment cannot assign 3003316 input values to the 3312817 output values where the mask is true",
     "output_type": "error",
     "traceback": [
      "\u001b[0;31m---------------------------------------------------------------------------\u001b[0m",
      "\u001b[0;31mValueError\u001b[0m                                Traceback (most recent call last)",
      "Cell \u001b[0;32mIn[16], line 17\u001b[0m\n\u001b[1;32m      1\u001b[0m \u001b[38;5;66;03m# def save_prediction(test_profile, pred_label_mask,test_pred,output_path):\u001b[39;00m\n\u001b[1;32m      2\u001b[0m \u001b[38;5;66;03m#     shape=pred_label_mask.shape\u001b[39;00m\n\u001b[1;32m      3\u001b[0m \u001b[38;5;66;03m#     print(shape)\u001b[39;00m\n\u001b[0;32m   (...)\u001b[0m\n\u001b[1;32m     15\u001b[0m \u001b[38;5;66;03m#     with rasterio.open(output_path,\"w\",driver=\"GTiff\",height=shape[0],width=shape[1],count=1,  dtype=pred_array.dtype,crs=test_profile['crs'],transform=transform) as dst:\u001b[39;00m\n\u001b[1;32m     16\u001b[0m \u001b[38;5;66;03m#         dst.write(pred_array, 1)\u001b[39;00m\n\u001b[0;32m---> 17\u001b[0m \u001b[43mmain\u001b[49m\u001b[38;5;241;43m.\u001b[39;49m\u001b[43msave_prediction\u001b[49m\u001b[43m(\u001b[49m\u001b[43mtest_features\u001b[49m\u001b[38;5;241;43m.\u001b[39;49m\u001b[43mprofile\u001b[49m\u001b[43m,\u001b[49m\u001b[43m \u001b[49m\u001b[43mtest_mask\u001b[49m\u001b[43m,\u001b[49m\u001b[43mtest_pred\u001b[49m\u001b[43m,\u001b[49m\u001b[43moutput_path\u001b[49m\u001b[43m)\u001b[49m\n",
      "File \u001b[0;32m~/Downloads/urbanan_google_earth/main.py:187\u001b[0m, in \u001b[0;36msave_prediction\u001b[0;34m(test_profile, pred_label_mask, test_pred, output_path)\u001b[0m\n\u001b[1;32m    183\u001b[0m \u001b[38;5;28mprint\u001b[39m(\u001b[38;5;28mlen\u001b[39m(valid_pred_mask),pred_array\u001b[38;5;241m.\u001b[39mshape, \u001b[38;5;28mlen\u001b[39m(test_pred))\n\u001b[1;32m    184\u001b[0m \u001b[38;5;28mprint\u001b[39m(transform)\n\u001b[0;32m--> 187\u001b[0m \u001b[43mpred_array\u001b[49m\u001b[43m[\u001b[49m\u001b[43mvalid_pred_mask\u001b[49m\u001b[43m]\u001b[49m \u001b[38;5;241m=\u001b[39m test_pred\n\u001b[1;32m    188\u001b[0m pred_array \u001b[38;5;241m=\u001b[39m pred_array\u001b[38;5;241m.\u001b[39mreshape((shape[\u001b[38;5;241m0\u001b[39m], shape[\u001b[38;5;241m1\u001b[39m]))\n\u001b[1;32m    189\u001b[0m \u001b[38;5;28;01mwith\u001b[39;00m rasterio\u001b[38;5;241m.\u001b[39mopen(output_path,\u001b[38;5;124m\"\u001b[39m\u001b[38;5;124mw\u001b[39m\u001b[38;5;124m\"\u001b[39m,driver\u001b[38;5;241m=\u001b[39m\u001b[38;5;124m\"\u001b[39m\u001b[38;5;124mGTiff\u001b[39m\u001b[38;5;124m\"\u001b[39m,height\u001b[38;5;241m=\u001b[39mshape[\u001b[38;5;241m0\u001b[39m],width\u001b[38;5;241m=\u001b[39mshape[\u001b[38;5;241m1\u001b[39m],count\u001b[38;5;241m=\u001b[39m\u001b[38;5;241m1\u001b[39m,  dtype\u001b[38;5;241m=\u001b[39mpred_array\u001b[38;5;241m.\u001b[39mdtype,crs\u001b[38;5;241m=\u001b[39mtest_profile[\u001b[38;5;124m'\u001b[39m\u001b[38;5;124mcrs\u001b[39m\u001b[38;5;124m'\u001b[39m],transform\u001b[38;5;241m=\u001b[39mtransform) \u001b[38;5;28;01mas\u001b[39;00m dst:\n",
      "\u001b[0;31mValueError\u001b[0m: NumPy boolean array indexing assignment cannot assign 3003316 input values to the 3312817 output values where the mask is true"
     ]
    }
   ],
   "source": [
    "def save_prediction(test_profile, test_pred,output_path):\n",
    "    shape=(2211,2239)\n",
    "    print(shape)\n",
    "    valid_pred_mask=pred_label_mask.flatten()\n",
    "    pred_array=np.full((shape[0]*shape[1]),np.nan)\n",
    "    print(pred_array.shape)\n",
    "    print(len(valid_pred_mask))\n",
    "    transform=test_profile['transform']\n",
    "    print(len(valid_pred_mask),pred_array.shape, len(test_pred))\n",
    "    print(transform)\n",
    "    \n",
    "\n",
    "    pred_array[valid_pred_mask] = test_pred\n",
    "    pred_array = pred_array.reshape((shape[0], shape[1]))\n",
    "    with rasterio.open(output_path,\"w\",driver=\"GTiff\",height=shape[0],width=shape[1],count=1,  dtype=pred_array.dtype,crs=test_profile['crs'],transform=transform) as dst:\n",
    "        dst.write(pred_array, 1)\n",
    "main.save_prediction(test_features.profile,test_pred,output_path)"
   ]
  },
  {
   "cell_type": "code",
   "execution_count": 19,
   "metadata": {},
   "outputs": [
    {
     "data": {
      "text/plain": [
       "(3003316,)"
      ]
     },
     "execution_count": 19,
     "metadata": {},
     "output_type": "execute_result"
    }
   ],
   "source": [
    "test_pred.shape"
   ]
  },
  {
   "cell_type": "code",
   "execution_count": 20,
   "metadata": {},
   "outputs": [
    {
     "data": {
      "text/plain": [
       "(3003316,)"
      ]
     },
     "execution_count": 20,
     "metadata": {},
     "output_type": "execute_result"
    }
   ],
   "source": [
    "y_test.shape"
   ]
  },
  {
   "cell_type": "code",
   "execution_count": 21,
   "metadata": {},
   "outputs": [
    {
     "data": {
      "text/plain": [
       "4950429"
      ]
     },
     "execution_count": 21,
     "metadata": {},
     "output_type": "execute_result"
    }
   ],
   "source": [
    "2211*2239"
   ]
  },
  {
   "cell_type": "code",
   "execution_count": 17,
   "metadata": {},
   "outputs": [
    {
     "data": {
      "text/plain": [
       "(2211, 2239)"
      ]
     },
     "execution_count": 17,
     "metadata": {},
     "output_type": "execute_result"
    }
   ],
   "source": [
    "test_mask.shape"
   ]
  },
  {
   "cell_type": "code",
   "execution_count": 18,
   "metadata": {},
   "outputs": [
    {
     "name": "stdout",
     "output_type": "stream",
     "text": [
      "(2211, 2239)\n",
      "(4950429,)\n",
      "4950429\n",
      "4950429 (4950429,) 3003316\n",
      "| 0.01, 0.00, 67.81|\n",
      "| 0.00,-0.01, 37.58|\n",
      "| 0.00, 0.00, 1.00|\n"
     ]
    },
    {
     "ename": "ValueError",
     "evalue": "NumPy boolean array indexing assignment cannot assign 3003316 input values to the 3312817 output values where the mask is true",
     "output_type": "error",
     "traceback": [
      "\u001b[0;31m---------------------------------------------------------------------------\u001b[0m",
      "\u001b[0;31mValueError\u001b[0m                                Traceback (most recent call last)",
      "Cell \u001b[0;32mIn[18], line 13\u001b[0m\n\u001b[1;32m      9\u001b[0m \u001b[38;5;28mprint\u001b[39m(\u001b[38;5;28mlen\u001b[39m(valid_pred_mask),pred_array\u001b[38;5;241m.\u001b[39mshape, \u001b[38;5;28mlen\u001b[39m(test_pred))\n\u001b[1;32m     10\u001b[0m \u001b[38;5;28mprint\u001b[39m(transform)\n\u001b[0;32m---> 13\u001b[0m \u001b[43mpred_array\u001b[49m\u001b[43m[\u001b[49m\u001b[43mvalid_pred_mask\u001b[49m\u001b[43m]\u001b[49m \u001b[38;5;241m=\u001b[39m test_pred\n\u001b[1;32m     14\u001b[0m pred_array \u001b[38;5;241m=\u001b[39m pred_array\u001b[38;5;241m.\u001b[39mreshape((shape[\u001b[38;5;241m0\u001b[39m], shape[\u001b[38;5;241m1\u001b[39m]))\n\u001b[1;32m     15\u001b[0m \u001b[38;5;28;01mwith\u001b[39;00m rasterio\u001b[38;5;241m.\u001b[39mopen(output_path,\u001b[38;5;124m\"\u001b[39m\u001b[38;5;124mw\u001b[39m\u001b[38;5;124m\"\u001b[39m,driver\u001b[38;5;241m=\u001b[39m\u001b[38;5;124m\"\u001b[39m\u001b[38;5;124mGTiff\u001b[39m\u001b[38;5;124m\"\u001b[39m,height\u001b[38;5;241m=\u001b[39mshape[\u001b[38;5;241m0\u001b[39m],width\u001b[38;5;241m=\u001b[39mshape[\u001b[38;5;241m1\u001b[39m],count\u001b[38;5;241m=\u001b[39m\u001b[38;5;241m1\u001b[39m,  dtype\u001b[38;5;241m=\u001b[39mpred_array\u001b[38;5;241m.\u001b[39mdtype,crs\u001b[38;5;241m=\u001b[39mtest_profile[\u001b[38;5;124m'\u001b[39m\u001b[38;5;124mcrs\u001b[39m\u001b[38;5;124m'\u001b[39m],transform\u001b[38;5;241m=\u001b[39mtransform) \u001b[38;5;28;01mas\u001b[39;00m dst:\n",
      "\u001b[0;31mValueError\u001b[0m: NumPy boolean array indexing assignment cannot assign 3003316 input values to the 3312817 output values where the mask is true"
     ]
    }
   ],
   "source": [
    "test_profile=test_features.profile\n",
    "shape=(2211,2239)\n",
    "print(shape)\n",
    "valid_pred_mask=test_mask.flatten()\n",
    "pred_array=np.full((shape[0]*shape[1]),np.nan)\n",
    "print(pred_array.shape)\n",
    "print(len(valid_pred_mask))\n",
    "transform=test_profile['transform']\n",
    "print(len(valid_pred_mask),pred_array.shape, len(test_pred))\n",
    "print(transform)\n",
    "\n",
    "\n",
    "pred_array[valid_pred_mask] = test_pred\n",
    "pred_array = pred_array.reshape((shape[0], shape[1]))\n",
    "with rasterio.open(output_path,\"w\",driver=\"GTiff\",height=shape[0],width=shape[1],count=1,  dtype=pred_array.dtype,crs=test_profile['crs'],transform=transform) as dst:\n",
    "    dst.write(pred_array, 1)\n",
    "\n"
   ]
  },
  {
   "cell_type": "code",
   "execution_count": 11,
   "metadata": {},
   "outputs": [
    {
     "data": {
      "text/plain": [
       "CRS.from_wkt('GEOGCS[\"unknown\",DATUM[\"unknown\",SPHEROID[\"Spheroid\",6378137,298.257223563]],PRIMEM[\"Greenwich\",0],UNIT[\"degree\",0.0174532925199433,AUTHORITY[\"EPSG\",\"9122\"]],AXIS[\"Latitude\",NORTH],AXIS[\"Longitude\",EAST]]')"
      ]
     },
     "execution_count": 11,
     "metadata": {},
     "output_type": "execute_result"
    }
   ],
   "source": [
    "test_profile['crs']"
   ]
  },
  {
   "cell_type": "code",
   "execution_count": 12,
   "metadata": {},
   "outputs": [
    {
     "name": "stdout",
     "output_type": "stream",
     "text": [
      "{'driver': 'GTiff', 'dtype': 'float64', 'nodata': None, 'width': 2239, 'height': 2211, 'count': 1, 'crs': CRS.from_wkt('GEOGCS[\"unknown\",DATUM[\"unknown\",SPHEROID[\"Spheroid\",6378137,298.257223563]],PRIMEM[\"Greenwich\",0],UNIT[\"degree\",0.0174532925199433,AUTHORITY[\"EPSG\",\"9122\"]],AXIS[\"Latitude\",NORTH],AXIS[\"Longitude\",EAST]]'), 'transform': Affine(0.013474729261792823, 0.0, 67.81374585363181,\n",
      "       0.0, -0.013474729261792823, 37.58330317162592), 'blockxsize': 2239, 'blockysize': 1, 'tiled': False, 'interleave': 'band'}\n"
     ]
    }
   ],
   "source": [
    "out=utils.rasterio_open(\"output_file_1.tiff\")\n",
    "print(out.profile)"
   ]
  },
  {
   "cell_type": "code",
   "execution_count": 14,
   "metadata": {},
   "outputs": [
    {
     "name": "stdout",
     "output_type": "stream",
     "text": [
      "{'driver': 'GTiff', 'dtype': 'float32', 'nodata': None, 'width': 2238, 'height': 2211, 'count': 9, 'crs': CRS.from_wkt('GEOGCS[\"unknown\",DATUM[\"unknown\",SPHEROID[\"Spheroid\",6378137,298.257223563]],PRIMEM[\"Greenwich\",0],UNIT[\"degree\",0.0174532925199433,AUTHORITY[\"EPSG\",\"9122\"]],AXIS[\"Latitude\",NORTH],AXIS[\"Longitude\",EAST]]'), 'transform': Affine(0.013474729261792823, 0.0, 67.81374585363181,\n",
      "       0.0, -0.013474729261792823, 37.58330317162592), 'blockxsize': 256, 'blockysize': 256, 'tiled': True, 'compress': 'lzw', 'interleave': 'pixel'}\n"
     ]
    }
   ],
   "source": [
    "print(test_profile)"
   ]
  },
  {
   "cell_type": "code",
   "execution_count": null,
   "metadata": {},
   "outputs": [],
   "source": []
  }
 ],
 "metadata": {
  "kernelspec": {
   "display_name": "venv",
   "language": "python",
   "name": "python3"
  },
  "language_info": {
   "codemirror_mode": {
    "name": "ipython",
    "version": 3
   },
   "file_extension": ".py",
   "mimetype": "text/x-python",
   "name": "python",
   "nbconvert_exporter": "python",
   "pygments_lexer": "ipython3",
   "version": "3.12.3"
  }
 },
 "nbformat": 4,
 "nbformat_minor": 2
}
