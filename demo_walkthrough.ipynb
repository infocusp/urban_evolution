{
 "cells": [
  {
   "cell_type": "code",
   "execution_count": null,
   "metadata": {},
   "outputs": [],
   "source": [
    "import os\n",
    "\n",
    "import lightgbm as lgbm\n",
    "import numpy as np\n",
    "import pandas as pd\n",
    "import yaml\n",
    "from tqdm import tqdm as tqdm\n",
    "\n",
    "import main\n",
    "import utils"
   ]
  },
  {
   "cell_type": "markdown",
   "metadata": {},
   "source": [
    "## Loading Config File"
   ]
  },
  {
   "cell_type": "code",
   "execution_count": 2,
   "metadata": {},
   "outputs": [],
   "source": [
    "with open('config.yaml') as f:\n",
    "    cfg=yaml.load(f,Loader=yaml.FullLoader)"
   ]
  },
  {
   "cell_type": "markdown",
   "metadata": {},
   "source": [
    "## Loading features and labels"
   ]
  },
  {
   "cell_type": "code",
   "execution_count": null,
   "metadata": {},
   "outputs": [
    {
     "name": "stderr",
     "output_type": "stream",
     "text": [
      "/home/nikki/venv/lib/python3.12/site-packages/google/auth/_default.py:76: UserWarning: Your application has authenticated using end user credentials from Google Cloud SDK without a quota project. You might receive a \"quota exceeded\" or \"API not enabled\" error. See the following page for troubleshooting: https://cloud.google.com/docs/authentication/adc-troubleshooting/user-creds. \n",
      "  warnings.warn(_CLOUD_SDK_CREDENTIALS_WARNING)\n",
      "/home/nikki/venv/lib/python3.12/site-packages/google/auth/_default.py:76: UserWarning: Your application has authenticated using end user credentials from Google Cloud SDK without a quota project. You might receive a \"quota exceeded\" or \"API not enabled\" error. See the following page for troubleshooting: https://cloud.google.com/docs/authentication/adc-troubleshooting/user-creds. \n",
      "  warnings.warn(_CLOUD_SDK_CREDENTIALS_WARNING)\n",
      "/home/nikki/venv/lib/python3.12/site-packages/google/auth/_default.py:76: UserWarning: Your application has authenticated using end user credentials from Google Cloud SDK without a quota project. You might receive a \"quota exceeded\" or \"API not enabled\" error. See the following page for troubleshooting: https://cloud.google.com/docs/authentication/adc-troubleshooting/user-creds. \n",
      "  warnings.warn(_CLOUD_SDK_CREDENTIALS_WARNING)\n"
     ]
    },
    {
     "name": "stdout",
     "output_type": "stream",
     "text": [
      "train  gs://earth-engine-seminar/urbanization/data/export_16012025/2022-01-01/urban_feat.tif gs://earth-engine-seminar/urbanization/data/export_07022025/2021-01-01/urban_label.tif gs://earth-engine-seminar/urbanization/data/export_07022025/2022-01-01/urban_custom_feat.tif gs://earth-engine-seminar/urbanization/data/export_07022025/2022-01-01/urban_label.tif\n",
      "test gs://earth-engine-seminar/urbanization/data/export_16012025/2023-01-01/urban_feat.tif gs://earth-engine-seminar/urbanization/data/export_07022025/2022-01-01/urban_label.tif gs://earth-engine-seminar/urbanization/data/export_07022025/2023-01-01/urban_custom_feat.tif gs://earth-engine-seminar/urbanization/data/export_07022025/2023-01-01/urban_label.tif\n"
     ]
    }
   ],
   "source": [
    "\n",
    "if cfg[\"task\"]==1:\n",
    "    bucket_paths=cfg[\"bucket_paths_next_year\"]\n",
    "elif cfg[\"task\"]==5:\n",
    "    bucket_paths=cfg[\"bucket_paths_five_year\"]\n",
    "\n",
    "\n",
    "labels = utils.files_in_dir(bucket_paths[\"labels\"], \"label.tif\")\n",
    "features = utils.files_in_dir(bucket_paths[\"features\"], \"urban_feat.tif\")\n",
    "custom_features=utils.files_in_dir(bucket_paths[\"customs\"],\"urban_custom_feat.tif\")\n",
    "test_index=main.return_indexes(features, cfg[\"pred_year\"])\n",
    "train_index=main.return_indexes(features, cfg[\"train_year\"])\n",
    "\n",
    "if(cfg[\"task\"]==1):\n",
    "    train_index_prev=train_index-1\n",
    "    test_index_prev=test_index-1\n",
    "    train_index_custom=train_index-5\n",
    "    test_index_custom=test_index-5\n",
    "elif(cfg[\"task\"]==5):\n",
    "    train_index_prev=train_index-5\n",
    "    test_index_prev=test_index-5\n",
    "    train_index_custom=train_index-5\n",
    "    test_index_custom=test_index-5\n",
    "print(\"train \",features[train_index],labels[train_index_prev],custom_features[train_index_custom],labels[train_index])\n",
    "print(\"test\",features[test_index],labels[test_index_prev],custom_features[test_index_custom],labels[test_index])\n",
    "\n",
    "\n",
    "train_prev_labels= utils.load_tiff(labels[train_index_prev])\n",
    "train_prev_features= utils.load_tiff(features[train_index_prev])\n",
    "train_custom_features=utils.load_tiff(custom_features[train_index_custom])\n",
    "train_features= utils.load_tiff(features[train_index])\n",
    "train_labels=utils.load_tiff(labels[train_index])\n",
    "\n",
    "test_prev_features= utils.load_tiff(features[test_index_prev])\n",
    "test_prev_labels= utils.load_tiff(labels[test_index_prev])\n",
    "test_custom_features=utils.load_tiff(custom_features[test_index_custom])\n",
    "test_features= utils.load_tiff(features[test_index])\n",
    "test_labels=utils.load_tiff(labels[test_index])\n",
    "\n",
    "train_feature=np.concatenate((train_features.data[:10,:,:],train_features.data[11:,:,:], train_prev_labels.data,train_custom_features.data), axis=0)\n",
    "test_feature=np.concatenate((test_features.data[:10,:,:],test_features.data[11:,:,:], test_prev_labels.data,test_custom_features.data), axis=0)\n",
    "train_label=train_labels.data\n",
    "test_label=test_labels.data\n",
    "\n",
    "\n",
    "\n",
    "\n",
    "\n"
   ]
  },
  {
   "cell_type": "markdown",
   "metadata": {},
   "source": []
  },
  {
   "cell_type": "markdown",
   "metadata": {},
   "source": [
    "## Data Pre-processing"
   ]
  },
  {
   "cell_type": "code",
   "execution_count": 5,
   "metadata": {},
   "outputs": [],
   "source": [
    "\n",
    "x_train,y_train,x_val,y_val,x_test, y_test, test_mask=main.pre_process(train_feature,train_label,test_feature, test_label, cfg[\"block_coverage\"], cfg[\"total_blocks\"],cfg[\"test_size\"])"
   ]
  },
  {
   "cell_type": "markdown",
   "metadata": {},
   "source": [
    "### Training"
   ]
  },
  {
   "cell_type": "code",
   "execution_count": 6,
   "metadata": {},
   "outputs": [
    {
     "name": "stderr",
     "output_type": "stream",
     "text": [
      "/home/nikki/venv/lib/python3.12/site-packages/sklearn/utils/deprecation.py:151: FutureWarning: 'force_all_finite' was renamed to 'ensure_all_finite' in 1.6 and will be removed in 1.8.\n",
      "  warnings.warn(\n"
     ]
    },
    {
     "name": "stdout",
     "output_type": "stream",
     "text": [
      "[LightGBM] [Info] Auto-choosing row-wise multi-threading, the overhead of testing was 0.177078 seconds.\n",
      "You can set `force_row_wise=true` to remove the overhead.\n",
      "And if memory is not enough, you can set `force_col_wise=true`.\n",
      "[LightGBM] [Info] Total Bins 2800\n",
      "[LightGBM] [Info] Number of data points in the train set: 2273956, number of used features: 18\n",
      "[LightGBM] [Info] Start training from score -1.386294\n",
      "[LightGBM] [Info] Start training from score -1.386294\n",
      "[LightGBM] [Info] Start training from score -1.386294\n",
      "[LightGBM] [Info] Start training from score -1.386294\n"
     ]
    }
   ],
   "source": [
    "s_weights=main.multiclass_temoral_class_weights(y_train)\n",
    "model = lgbm.LGBMClassifier(objective=\"multiclass\", num_class=4, class_weight=s_weights)\n",
    "best_model=main.train(model,x_train,y_train,x_val,y_val, [6,8,9,13])"
   ]
  },
  {
   "cell_type": "code",
   "execution_count": 7,
   "metadata": {},
   "outputs": [
    {
     "name": "stdout",
     "output_type": "stream",
     "text": [
      "(2273956, 18)\n",
      "(2273956,)\n",
      "(3314341, 18)\n",
      "(3314341,)\n",
      "(940500, 18)\n",
      "(940500,)\n"
     ]
    }
   ],
   "source": [
    "print(x_train.shape)\n",
    "print(y_train.shape)\n",
    "print(x_test.shape)\n",
    "print(y_test.shape)\n",
    "print(x_val.shape)\n",
    "print(y_val.shape)"
   ]
  },
  {
   "cell_type": "markdown",
   "metadata": {},
   "source": [
    "## Prediction"
   ]
  },
  {
   "cell_type": "code",
   "execution_count": 8,
   "metadata": {},
   "outputs": [
    {
     "name": "stderr",
     "output_type": "stream",
     "text": [
      "/home/nikki/venv/lib/python3.12/site-packages/sklearn/utils/deprecation.py:151: FutureWarning: 'force_all_finite' was renamed to 'ensure_all_finite' in 1.6 and will be removed in 1.8.\n",
      "  warnings.warn(\n",
      "/home/nikki/venv/lib/python3.12/site-packages/sklearn/utils/deprecation.py:151: FutureWarning: 'force_all_finite' was renamed to 'ensure_all_finite' in 1.6 and will be removed in 1.8.\n",
      "  warnings.warn(\n"
     ]
    },
    {
     "name": "stdout",
     "output_type": "stream",
     "text": [
      "[3. 3. 3. ... 2. 3. 3.]\n",
      "[[   7684       0       0      38]\n",
      " [      0    2101       0      17]\n",
      " [      0       0    6445      57]\n",
      " [     14      19      28 3297938]]\n",
      "0.9998042999671155\n"
     ]
    }
   ],
   "source": [
    "test_pred,cm,report,auc_roc=main.predict(best_model,x_test,y_test)\n",
    "print(test_pred)\n",
    "print(cm)\n",
    "print(auc_roc)"
   ]
  },
  {
   "cell_type": "markdown",
   "metadata": {},
   "source": [
    "## Saving "
   ]
  },
  {
   "cell_type": "code",
   "execution_count": null,
   "metadata": {},
   "outputs": [
    {
     "name": "stderr",
     "output_type": "stream",
     "text": [
      "/home/nikki/Downloads/nikki_exp_conv_temporal_static/utils.py:128: RuntimeWarning: invalid value encountered in cast\n",
      "  dataset.write(data)  # Write the array to the first band\n",
      "WARNING:rasterio._env:CPLE_NotSupported in driver COG does not support creation option BLOCKXSIZE\n",
      "WARNING:rasterio._env:CPLE_NotSupported in driver COG does not support creation option BLOCKYSIZE\n",
      "WARNING:rasterio._env:CPLE_NotSupported in driver COG does not support creation option TILED\n",
      "WARNING:rasterio._env:CPLE_NotSupported in driver COG does not support creation option INTERLEAVE\n"
     ]
    },
    {
     "name": "stderr",
     "output_type": "stream",
     "text": [
      "/home/nikki/venv/lib/python3.12/site-packages/google/auth/_default.py:76: UserWarning: Your application has authenticated using end user credentials from Google Cloud SDK without a quota project. You might receive a \"quota exceeded\" or \"API not enabled\" error. See the following page for troubleshooting: https://cloud.google.com/docs/authentication/adc-troubleshooting/user-creds. \n",
      "  warnings.warn(_CLOUD_SDK_CREDENTIALS_WARNING)\n"
     ]
    }
   ],
   "source": [
    "\n",
    "test_profile=test_labels.profile\n",
    "shape=(test_labels.metadata[\"height\"],test_labels.metadata[\"width\"])\n",
    "valid_pred_mask=test_mask.flatten()\n",
    "pred_array=np.full((shape[0]*shape[1]),np.nan)\n",
    "pred_array[valid_pred_mask] = test_pred\n",
    "pred_array = pred_array.reshape((1,shape[0], shape[1]))\n",
    "utils.export_tiff(os.path.join(cfg[\"output_path\"],f'{cfg[\"pred_year\"]}.tiff'), test_profile,pred_array, ['urban'])\n"
   ]
  }
 ],
 "metadata": {
  "kernelspec": {
   "display_name": "venv",
   "language": "python",
   "name": "python3"
  },
  "language_info": {
   "codemirror_mode": {
    "name": "ipython",
    "version": 3
   },
   "file_extension": ".py",
   "mimetype": "text/x-python",
   "name": "python",
   "nbconvert_exporter": "python",
   "pygments_lexer": "ipython3",
   "version": "3.12.3"
  }
 },
 "nbformat": 4,
 "nbformat_minor": 2
}
