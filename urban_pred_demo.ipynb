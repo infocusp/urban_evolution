{
 "cells": [
  {
   "cell_type": "markdown",
   "metadata": {},
   "source": [
    "## Imports"
   ]
  },
  {
   "cell_type": "code",
   "execution_count": null,
   "metadata": {},
   "outputs": [],
   "source": [
    "import numpy as np\n",
    "import rasterio\n",
    "import gcsfs\n",
    "from io import BytesIO\n",
    "import xarray as xr\n",
    "\n",
    "import utils\n",
    "from rasterio.windows import Window, get_data_window\n",
    "from rasterio.transform import from_origin\n",
    "from sklearn.model_selection import train_test_split\n",
    "from sklearn.metrics import classification_report, confusion_matrix\n",
    "%load_ext autoreload"
   ]
  },
  {
   "cell_type": "code",
   "execution_count": 5,
   "metadata": {},
   "outputs": [
    {
     "data": {
      "text/plain": [
       "<module 'utils' from '/home/mayuresh/urban-prediction/utils.py'>"
      ]
     },
     "execution_count": 5,
     "metadata": {},
     "output_type": "execute_result"
    }
   ],
   "source": [
    "import importlib\n",
    "importlib.reload(utils) "
   ]
  },
  {
   "cell_type": "markdown",
   "metadata": {},
   "source": [
    "### Utils"
   ]
  },
  {
   "cell_type": "code",
   "execution_count": null,
   "metadata": {},
   "outputs": [],
   "source": [
    "def create_windows():\n",
    "    # Generate windows for each grid\n",
    "    windows = []\n",
    "    for i in range(0, height-block_size+1, block_size):\n",
    "        for j in range(0, width-block_size+1, block_size):\n",
    "            windows.append(Window(j, i, block_size, block_size))\n",
    "    return \n",
    "\n",
    "def get_train_val_windows():\n",
    "    return \n",
    "\n",
    "def get_sampled_data(data, windows):\n",
    "    window_data = []\n",
    "    new_data = np.full(data.shape, np.nan, data.dtype)\n",
    "    for window in windows:\n",
    "        row_start = int(window.row_off)\n",
    "        row_stop = int(window.row_off + window.height)\n",
    "        col_start = int(window.col_off)\n",
    "        col_stop = int(window.col_off + window.width)\n",
    "        new_data[:, row_start:row_stop, col_start:col_stop] = data[:, row_start:row_stop, col_start:col_stop].copy()\n",
    "\n",
    "    return new_data\n",
    "\n",
    "def add_padding(test_features, test_label):\n",
    "    # Padding the arrays to ensure they are of same shape\n",
    "    if test_features.shape[2]  < test_label.shape[2]:\n",
    "        padding = test_label.shape[2] - test_features.shape[2]\n",
    "        test_features_padded = np.pad(test_features, ((0, 0), (0, 0), (0, padding)), mode='constant', constant_values=np.nan)\n",
    "    return test_features_padded"
   ]
  },
  {
   "cell_type": "markdown",
   "metadata": {},
   "source": [
    "### GCS Paths"
   ]
  },
  {
   "cell_type": "code",
   "execution_count": 5,
   "metadata": {},
   "outputs": [],
   "source": [
    "data_dir = \"gs://earth-engine-seminar/urbanization/data/export_22122024\"\n",
    "labels = utils.files_in_dir(data_dir, \"label.tif\")\n",
    "features = utils.files_in_dir(data_dir, \"feat.tif\")"
   ]
  },
  {
   "cell_type": "code",
   "execution_count": 117,
   "metadata": {},
   "outputs": [
    {
     "data": {
      "text/plain": [
       "['gs://earth-engine-seminar/urbanization/data/export_22122024/2010-01-01/urban_label.tif',\n",
       " 'gs://earth-engine-seminar/urbanization/data/export_22122024/2011-01-01/urban_label.tif',\n",
       " 'gs://earth-engine-seminar/urbanization/data/export_22122024/2012-01-01/urban_label.tif',\n",
       " 'gs://earth-engine-seminar/urbanization/data/export_22122024/2013-01-01/urban_label.tif',\n",
       " 'gs://earth-engine-seminar/urbanization/data/export_22122024/2014-01-01/urban_label.tif',\n",
       " 'gs://earth-engine-seminar/urbanization/data/export_22122024/2015-01-01/urban_label.tif',\n",
       " 'gs://earth-engine-seminar/urbanization/data/export_22122024/2016-01-01/urban_label.tif',\n",
       " 'gs://earth-engine-seminar/urbanization/data/export_22122024/2017-01-01/urban_label.tif',\n",
       " 'gs://earth-engine-seminar/urbanization/data/export_22122024/2018-01-01/urban_label.tif']"
      ]
     },
     "execution_count": 117,
     "metadata": {},
     "output_type": "execute_result"
    }
   ],
   "source": [
    "labels"
   ]
  },
  {
   "cell_type": "code",
   "execution_count": 6,
   "metadata": {},
   "outputs": [],
   "source": [
    "test_label = utils.load_tif_data(labels[0])\n",
    "test_features = utils.load_tif_data(features[0])"
   ]
  },
  {
   "cell_type": "code",
   "execution_count": 158,
   "metadata": {},
   "outputs": [
    {
     "data": {
      "text/plain": [
       "{'driver': 'GTiff', 'dtype': 'float32', 'nodata': None, 'width': 2238, 'height': 2211, 'count': 9, 'crs': CRS.from_wkt('GEOGCS[\"unknown\",DATUM[\"unknown\",SPHEROID[\"Spheroid\",6378137,298.257223563]],PRIMEM[\"Greenwich\",0],UNIT[\"degree\",0.0174532925199433,AUTHORITY[\"EPSG\",\"9122\"]],AXIS[\"Latitude\",NORTH],AXIS[\"Longitude\",EAST]]'), 'transform': Affine(0.013474729261792823, 0.0, 67.81374585363181,\n",
       "       0.0, -0.013474729261792823, 37.58330317162592), 'blockxsize': 256, 'blockysize': 256, 'tiled': True, 'compress': 'lzw', 'interleave': 'pixel'}"
      ]
     },
     "execution_count": 158,
     "metadata": {},
     "output_type": "execute_result"
    }
   ],
   "source": [
    "temp_feat = utils.load_tiff(features[0])\n",
    "temp_feat.profile"
   ]
  },
  {
   "cell_type": "code",
   "execution_count": 7,
   "metadata": {},
   "outputs": [
    {
     "data": {
      "text/plain": [
       "((1, 2211, 2239), (9, 2211, 2238))"
      ]
     },
     "execution_count": 7,
     "metadata": {},
     "output_type": "execute_result"
    }
   ],
   "source": [
    "test_label.shape, test_features.shape  "
   ]
  },
  {
   "cell_type": "code",
   "execution_count": 8,
   "metadata": {},
   "outputs": [
    {
     "data": {
      "text/plain": [
       "(array([-1,  0,  1,  2,  3], dtype=int8),\n",
       " array([-4.1900002e+01, -4.0200001e+01, -4.0099998e+01, ...,\n",
       "         7.6085492e+04,  9.1639555e+04,            nan],\n",
       "       shape=(382460,), dtype=float32))"
      ]
     },
     "execution_count": 8,
     "metadata": {},
     "output_type": "execute_result"
    }
   ],
   "source": [
    "np.unique(test_label), np.unique(test_features)"
   ]
  },
  {
   "cell_type": "code",
   "execution_count": null,
   "metadata": {},
   "outputs": [],
   "source": [
    "# Add nan values for no data regions\n",
    "test_label = np.where(test_label == -1, np.nan, test_label)"
   ]
  },
  {
   "cell_type": "code",
   "execution_count": 10,
   "metadata": {},
   "outputs": [
    {
     "data": {
      "text/plain": [
       "array([ 0.,  1.,  2.,  3., nan])"
      ]
     },
     "execution_count": 10,
     "metadata": {},
     "output_type": "execute_result"
    }
   ],
   "source": [
    "np.unique(test_label)"
   ]
  },
  {
   "cell_type": "markdown",
   "metadata": {},
   "source": [
    "## Data Preparation"
   ]
  },
  {
   "cell_type": "markdown",
   "metadata": {},
   "source": [
    "### Add Padding to make shapes same"
   ]
  },
  {
   "cell_type": "code",
   "execution_count": 11,
   "metadata": {},
   "outputs": [],
   "source": [
    "# Padding the arrays to ensure they are of same shape\n",
    "if test_features.shape[2]  < test_label.shape[2]:\n",
    "    padding = test_label.shape[2] - test_features.shape[2]\n",
    "    test_features_padded = np.pad(test_features, ((0, 0), (0, 0), (0, padding)), mode='constant', constant_values=np.nan)"
   ]
  },
  {
   "cell_type": "code",
   "execution_count": 12,
   "metadata": {},
   "outputs": [],
   "source": [
    "stacked_data = np.concatenate((test_label, test_features_padded))"
   ]
  },
  {
   "cell_type": "code",
   "execution_count": 13,
   "metadata": {},
   "outputs": [
    {
     "data": {
      "text/plain": [
       "(10, 2211, 2239)"
      ]
     },
     "execution_count": 13,
     "metadata": {},
     "output_type": "execute_result"
    }
   ],
   "source": [
    "stacked_data.shape"
   ]
  },
  {
   "cell_type": "markdown",
   "metadata": {},
   "source": [
    "### Remove Nan values"
   ]
  },
  {
   "cell_type": "code",
   "execution_count": 14,
   "metadata": {},
   "outputs": [],
   "source": [
    "valid_mask = ~np.isnan(stacked_data).any(axis=0)"
   ]
  },
  {
   "cell_type": "code",
   "execution_count": 36,
   "metadata": {},
   "outputs": [
    {
     "data": {
      "text/plain": [
       "(2211, 2239)"
      ]
     },
     "execution_count": 36,
     "metadata": {},
     "output_type": "execute_result"
    }
   ],
   "source": [
    "valid_mask.shape"
   ]
  },
  {
   "cell_type": "code",
   "execution_count": 15,
   "metadata": {},
   "outputs": [],
   "source": [
    "filtered_stacked_data = np.where(valid_mask, stacked_data, np.nan)"
   ]
  },
  {
   "cell_type": "code",
   "execution_count": null,
   "metadata": {},
   "outputs": [],
   "source": [
    "filtered_stacked_data = stacked_data[:, valid_mask]"
   ]
  },
  {
   "cell_type": "code",
   "execution_count": 16,
   "metadata": {},
   "outputs": [
    {
     "data": {
      "text/plain": [
       "(10, 2211, 2239)"
      ]
     },
     "execution_count": 16,
     "metadata": {},
     "output_type": "execute_result"
    }
   ],
   "source": [
    "filtered_stacked_data.shape"
   ]
  },
  {
   "cell_type": "markdown",
   "metadata": {},
   "source": [
    "### Create windows"
   ]
  },
  {
   "cell_type": "code",
   "execution_count": 17,
   "metadata": {},
   "outputs": [],
   "source": [
    "block_coverage = 0.3\n",
    "total_blocks = 100\n",
    "height, width = filtered_stacked_data.shape[1], filtered_stacked_data.shape[2]\n",
    "total_pixels = height*width\n",
    "pixels_covered = total_pixels*block_coverage\n",
    "block_size = int(np.sqrt(pixels_covered/total_blocks))\n",
    "\n",
    "# Generate windows for each grid\n",
    "windows = []\n",
    "for i in range(0, height-block_size+1, block_size):\n",
    "    for j in range(0, width-block_size+1, block_size):\n",
    "        windows.append(Window(j, i, block_size, block_size))"
   ]
  },
  {
   "cell_type": "code",
   "execution_count": 18,
   "metadata": {},
   "outputs": [
    {
     "data": {
      "text/plain": [
       "324"
      ]
     },
     "execution_count": 18,
     "metadata": {},
     "output_type": "execute_result"
    }
   ],
   "source": [
    "len(windows)"
   ]
  },
  {
   "cell_type": "code",
   "execution_count": null,
   "metadata": {},
   "outputs": [],
   "source": [
    "# Randomly split windows into train and validation\n",
    "train_windows, val_windows = train_test_split(windows, test_size=0.3, random_state=42)"
   ]
  },
  {
   "cell_type": "code",
   "execution_count": null,
   "metadata": {},
   "outputs": [],
   "source": [
    "train_data, temp_val_data = get_sampled_data(filtered_stacked_data, train_windows)\n",
    "val_data = get_sampled_data(filtered_stacked_data, val_windows)"
   ]
  },
  {
   "cell_type": "code",
   "execution_count": 84,
   "metadata": {},
   "outputs": [
    {
     "data": {
      "text/plain": [
       "((10, 2211, 2239), (10, 2211, 2239))"
      ]
     },
     "execution_count": 84,
     "metadata": {},
     "output_type": "execute_result"
    }
   ],
   "source": [
    "train_data.shape, temp_val_data.shape"
   ]
  },
  {
   "cell_type": "code",
   "execution_count": null,
   "metadata": {},
   "outputs": [
    {
     "data": {
      "text/plain": [
       "(9, 2211, 2239)"
      ]
     },
     "execution_count": 38,
     "metadata": {},
     "output_type": "execute_result"
    }
   ],
   "source": [
    "\n",
    "train_data[1:, :, :].shape"
   ]
  },
  {
   "cell_type": "markdown",
   "metadata": {},
   "source": [
    "### Create a mask for nan data"
   ]
  },
  {
   "cell_type": "code",
   "execution_count": 98,
   "metadata": {},
   "outputs": [],
   "source": [
    "train_feat = train_data[1:, :, :]\n",
    "train_label = train_data[0, :, :]\n",
    "val_feat = val_data[1:, :, :]\n",
    "val_label = val_data[0, :, :]\n",
    "\n",
    "nan_feat = np.any(np.isnan(train_feat),axis=0)\n",
    "nan_label = np.isnan(train_label)\n",
    "nan_val_feat = np.any(np.isnan(val_feat),axis=0)\n",
    "nan_val_label = np.isnan(val_label)"
   ]
  },
  {
   "cell_type": "code",
   "execution_count": 86,
   "metadata": {},
   "outputs": [
    {
     "data": {
      "text/plain": [
       "((2211, 2239), (2211, 2239))"
      ]
     },
     "execution_count": 86,
     "metadata": {},
     "output_type": "execute_result"
    }
   ],
   "source": [
    "nan_feat.shape, nan_label.shape"
   ]
  },
  {
   "cell_type": "code",
   "execution_count": 99,
   "metadata": {},
   "outputs": [],
   "source": [
    "label_mask = ~nan_label\n",
    "feat_mask = ~nan_feat\n",
    "\n",
    "val_label_mask = ~nan_val_label\n",
    "val_feat_mask = ~nan_val_feat"
   ]
  },
  {
   "cell_type": "code",
   "execution_count": 89,
   "metadata": {},
   "outputs": [
    {
     "data": {
      "text/plain": [
       "((2211, 2239), (2211, 2239))"
      ]
     },
     "execution_count": 89,
     "metadata": {},
     "output_type": "execute_result"
    }
   ],
   "source": [
    "label_mask.shape, feat_mask.shape"
   ]
  },
  {
   "cell_type": "code",
   "execution_count": 72,
   "metadata": {},
   "outputs": [
    {
     "data": {
      "text/plain": [
       "((2211, 2239), (9, 2211, 2239))"
      ]
     },
     "execution_count": 72,
     "metadata": {},
     "output_type": "execute_result"
    }
   ],
   "source": [
    "train_label.shape, train_feat.shape"
   ]
  },
  {
   "cell_type": "code",
   "execution_count": 100,
   "metadata": {},
   "outputs": [],
   "source": [
    "masked_train_labels = train_label[label_mask]\n",
    "masked_train_feat = train_feat[:, feat_mask]\n",
    "\n",
    "masked_val_labels = val_label[val_label_mask]\n",
    "masked_val_feat_data = val_feat[:, val_feat_mask]"
   ]
  },
  {
   "cell_type": "code",
   "execution_count": 101,
   "metadata": {},
   "outputs": [
    {
     "data": {
      "text/plain": [
       "((2272163,), (9, 2272163), (939464,), (9, 939464))"
      ]
     },
     "execution_count": 101,
     "metadata": {},
     "output_type": "execute_result"
    }
   ],
   "source": [
    "masked_train_labels.shape, masked_train_feat.shape, masked_val_labels.shape, masked_val_feat_data.shape"
   ]
  },
  {
   "cell_type": "code",
   "execution_count": 102,
   "metadata": {},
   "outputs": [
    {
     "data": {
      "text/plain": [
       "(2272163, 9)"
      ]
     },
     "execution_count": 102,
     "metadata": {},
     "output_type": "execute_result"
    }
   ],
   "source": [
    "masked_train_feat.transpose().shape"
   ]
  },
  {
   "cell_type": "markdown",
   "metadata": {},
   "source": [
    "## Train Model"
   ]
  },
  {
   "cell_type": "code",
   "execution_count": 105,
   "metadata": {},
   "outputs": [],
   "source": [
    "import lightgbm as lgbm"
   ]
  },
  {
   "cell_type": "code",
   "execution_count": 106,
   "metadata": {},
   "outputs": [],
   "source": [
    "model = lgbm.LGBMClassifier(objective=\"multiclass\", num_class=4)\n"
   ]
  },
  {
   "cell_type": "code",
   "execution_count": 114,
   "metadata": {},
   "outputs": [],
   "source": [
    "X = masked_train_feat.transpose()\n",
    "y = masked_train_labels\n",
    "\n",
    "X_test = masked_val_feat_data.transpose()\n",
    "y_test = masked_val_labels"
   ]
  },
  {
   "cell_type": "code",
   "execution_count": 115,
   "metadata": {},
   "outputs": [
    {
     "data": {
      "text/plain": [
       "((2272163, 9), (2272163,), (939464, 9), (939464,))"
      ]
     },
     "execution_count": 115,
     "metadata": {},
     "output_type": "execute_result"
    }
   ],
   "source": [
    "X.shape, y.shape, X_test.shape, y_test.shape"
   ]
  },
  {
   "cell_type": "code",
   "execution_count": null,
   "metadata": {},
   "outputs": [
    {
     "name": "stderr",
     "output_type": "stream",
     "text": [
      "/home/mayuresh/urban-prediction/urban_venv/lib/python3.12/site-packages/sklearn/utils/deprecation.py:151: FutureWarning: 'force_all_finite' was renamed to 'ensure_all_finite' in 1.6 and will be removed in 1.8.\n",
      "  warnings.warn(\n"
     ]
    },
    {
     "name": "stdout",
     "output_type": "stream",
     "text": [
      "[LightGBM] [Info] Auto-choosing row-wise multi-threading, the overhead of testing was 0.010277 seconds.\n",
      "You can set `force_row_wise=true` to remove the overhead.\n",
      "And if memory is not enough, you can set `force_col_wise=true`.\n",
      "[LightGBM] [Info] Total Bins 1989\n",
      "[LightGBM] [Info] Number of data points in the train set: 2272163, number of used features: 9\n",
      "[LightGBM] [Info] Start training from score -6.000023\n",
      "[LightGBM] [Info] Start training from score -7.358304\n",
      "[LightGBM] [Info] Start training from score -6.258082\n",
      "[LightGBM] [Info] Start training from score -0.005044\n"
     ]
    }
   ],
   "source": [
    "model = model.fit(X = np.array(X),\n",
    "                  y=np.array(y),\n",
    "                  eval_set=[(np.array(X_test), np.array(y_test))],\n",
    "                  eval_names=[\"validation\"],\n",
    "                #   eval_metric=[\"auc\", \"l1\", \"l2\"],\n",
    "                  categorical_feature=[7]\n",
    "                  )"
   ]
  },
  {
   "cell_type": "markdown",
   "metadata": {},
   "source": [
    "## Predict Future Urbanization"
   ]
  },
  {
   "cell_type": "markdown",
   "metadata": {},
   "source": [
    "### prepare data for prediction"
   ]
  },
  {
   "cell_type": "code",
   "execution_count": 123,
   "metadata": {},
   "outputs": [],
   "source": [
    "pred_label = utils.load_tif_data(labels[5])\n",
    "pred_feat = utils.load_tif_data(features[5])"
   ]
  },
  {
   "cell_type": "code",
   "execution_count": 124,
   "metadata": {},
   "outputs": [
    {
     "data": {
      "text/plain": [
       "((1, 2211, 2239), (9, 2211, 2238))"
      ]
     },
     "execution_count": 124,
     "metadata": {},
     "output_type": "execute_result"
    }
   ],
   "source": [
    "pred_label.shape, pred_feat.shape"
   ]
  },
  {
   "cell_type": "code",
   "execution_count": 129,
   "metadata": {},
   "outputs": [
    {
     "data": {
      "text/plain": [
       "(10, 2211, 2239)"
      ]
     },
     "execution_count": 129,
     "metadata": {},
     "output_type": "execute_result"
    }
   ],
   "source": [
    "pred_feat_padded = add_padding(pred_feat, pred_label)\n",
    "pred_stacked_data = np.concatenate((pred_label, pred_feat_padded))\n",
    "pred_stacked_data.shape"
   ]
  },
  {
   "cell_type": "code",
   "execution_count": 132,
   "metadata": {},
   "outputs": [],
   "source": [
    "valid_mask = ~np.isnan(stacked_data).any(axis=0)\n",
    "filtered_stacked_data = np.where(valid_mask, stacked_data, np.nan)\n",
    "# filtered_stacked_data = stacked_data[:, valid_mask]"
   ]
  },
  {
   "cell_type": "code",
   "execution_count": 133,
   "metadata": {},
   "outputs": [
    {
     "data": {
      "text/plain": [
       "(10, 2211, 2239)"
      ]
     },
     "execution_count": 133,
     "metadata": {},
     "output_type": "execute_result"
    }
   ],
   "source": [
    "filtered_stacked_data.shape"
   ]
  },
  {
   "cell_type": "code",
   "execution_count": 136,
   "metadata": {},
   "outputs": [],
   "source": [
    "pred_feat = filtered_stacked_data[1:, :, :]\n",
    "pred_label = filtered_stacked_data[0, :, :]\n",
    "\n",
    "nan_pred_feat = np.any(np.isnan(pred_feat),axis=0)\n",
    "nan_pred_label = np.isnan(pred_label)\n",
    "\n",
    "pred_label_mask = ~nan_pred_label\n",
    "pred_feat_mask = ~nan_pred_feat\n",
    "\n",
    "masked_pred_labels = pred_label[pred_label_mask]\n",
    "masked_pred_feat = pred_feat[:, pred_feat_mask]"
   ]
  },
  {
   "cell_type": "code",
   "execution_count": 137,
   "metadata": {},
   "outputs": [
    {
     "data": {
      "text/plain": [
       "((3312854,), (9, 3312854))"
      ]
     },
     "execution_count": 137,
     "metadata": {},
     "output_type": "execute_result"
    }
   ],
   "source": [
    "masked_pred_labels.shape, masked_pred_feat.shape"
   ]
  },
  {
   "cell_type": "markdown",
   "metadata": {},
   "source": [
    "### predict future"
   ]
  },
  {
   "cell_type": "code",
   "execution_count": 138,
   "metadata": {},
   "outputs": [],
   "source": [
    "X_pred = masked_pred_feat.transpose()\n",
    "y_real = masked_pred_labels"
   ]
  },
  {
   "cell_type": "code",
   "execution_count": 139,
   "metadata": {},
   "outputs": [
    {
     "name": "stderr",
     "output_type": "stream",
     "text": [
      "/home/mayuresh/urban-prediction/urban_venv/lib/python3.12/site-packages/sklearn/utils/deprecation.py:151: FutureWarning: 'force_all_finite' was renamed to 'ensure_all_finite' in 1.6 and will be removed in 1.8.\n",
      "  warnings.warn(\n"
     ]
    }
   ],
   "source": [
    "y_pred = model.predict(X_pred)"
   ]
  },
  {
   "cell_type": "code",
   "execution_count": 141,
   "metadata": {},
   "outputs": [
    {
     "data": {
      "text/plain": [
       "((3312854,), (3312854,))"
      ]
     },
     "execution_count": 141,
     "metadata": {},
     "output_type": "execute_result"
    }
   ],
   "source": [
    "y_pred.shape, y_real.shape"
   ]
  },
  {
   "cell_type": "code",
   "execution_count": 146,
   "metadata": {},
   "outputs": [],
   "source": [
    "np.save(\"/home/mayuresh/urban-prediction/predictions_2010.npy\", y_pred)"
   ]
  },
  {
   "cell_type": "markdown",
   "metadata": {},
   "source": [
    "## Confusion matrix"
   ]
  },
  {
   "cell_type": "code",
   "execution_count": null,
   "metadata": {},
   "outputs": [],
   "source": [
    "cm = confusion_matrix(y_real, y_pred, labels=[0,1,2,3])"
   ]
  },
  {
   "cell_type": "code",
   "execution_count": 148,
   "metadata": {},
   "outputs": [
    {
     "data": {
      "text/plain": [
       "array([[   4565,     117,     128,    3015],\n",
       "       [    126,     570,     112,    1342],\n",
       "       [     84,      63,    1625,    4845],\n",
       "       [   5499,    1246,    3119, 3286398]])"
      ]
     },
     "execution_count": 148,
     "metadata": {},
     "output_type": "execute_result"
    }
   ],
   "source": [
    "cm"
   ]
  },
  {
   "cell_type": "code",
   "execution_count": 154,
   "metadata": {},
   "outputs": [],
   "source": [
    "report = classification_report(y_real, y_pred, labels=[0,1,2,3])"
   ]
  },
  {
   "cell_type": "code",
   "execution_count": 156,
   "metadata": {},
   "outputs": [
    {
     "name": "stdout",
     "output_type": "stream",
     "text": [
      "              precision    recall  f1-score   support\n",
      "\n",
      "           0       0.44      0.58      0.50      7825\n",
      "           1       0.29      0.27      0.27      2150\n",
      "           2       0.33      0.25      0.28      6617\n",
      "           3       1.00      1.00      1.00   3296262\n",
      "\n",
      "    accuracy                           0.99   3312854\n",
      "   macro avg       0.51      0.52      0.51   3312854\n",
      "weighted avg       0.99      0.99      0.99   3312854\n",
      "\n"
     ]
    }
   ],
   "source": [
    "print(report)"
   ]
  },
  {
   "cell_type": "markdown",
   "metadata": {},
   "source": [
    "## Save predictions"
   ]
  },
  {
   "cell_type": "code",
   "execution_count": 176,
   "metadata": {},
   "outputs": [],
   "source": [
    "shape = pred_label.shape"
   ]
  },
  {
   "cell_type": "code",
   "execution_count": 165,
   "metadata": {},
   "outputs": [],
   "source": [
    "valid_pred_mask = pred_label_mask.flatten()"
   ]
  },
  {
   "cell_type": "code",
   "execution_count": 180,
   "metadata": {},
   "outputs": [],
   "source": [
    "profile = temp_feat.profile\n",
    "pred_array = np.full((shape[0]* shape[1]), np.nan)"
   ]
  },
  {
   "cell_type": "code",
   "execution_count": 175,
   "metadata": {},
   "outputs": [
    {
     "data": {
      "text/plain": [
       "(2211, 2238)"
      ]
     },
     "execution_count": 175,
     "metadata": {},
     "output_type": "execute_result"
    }
   ],
   "source": [
    "profile['height'], profile['width']"
   ]
  },
  {
   "cell_type": "code",
   "execution_count": 173,
   "metadata": {},
   "outputs": [
    {
     "data": {
      "text/plain": [
       "(4950429, (4948218,))"
      ]
     },
     "execution_count": 173,
     "metadata": {},
     "output_type": "execute_result"
    }
   ],
   "source": [
    "len(valid_pred_mask), pred_array.shape"
   ]
  },
  {
   "cell_type": "code",
   "execution_count": 181,
   "metadata": {},
   "outputs": [],
   "source": [
    "pred_array[valid_pred_mask] = y_pred\n",
    "pred_array = pred_array.reshape((shape[0], shape[1]))"
   ]
  },
  {
   "cell_type": "code",
   "execution_count": 182,
   "metadata": {},
   "outputs": [
    {
     "data": {
      "text/plain": [
       "(2211, 2239)"
      ]
     },
     "execution_count": 182,
     "metadata": {},
     "output_type": "execute_result"
    }
   ],
   "source": [
    "pred_array.shape"
   ]
  },
  {
   "cell_type": "markdown",
   "metadata": {},
   "source": [
    "### Create a tiff"
   ]
  },
  {
   "cell_type": "code",
   "execution_count": null,
   "metadata": {},
   "outputs": [],
   "source": [
    "crs = \"EPSG:3857\"  # Example CRS\n",
    "output_path = \"test_preds_new.tif\"\n",
    "transform = profile['transform']"
   ]
  },
  {
   "cell_type": "code",
   "execution_count": 203,
   "metadata": {},
   "outputs": [],
   "source": [
    "with rasterio.open(\n",
    "    output_path,\n",
    "    \"w\",\n",
    "    driver=\"GTiff\",\n",
    "    height=height,\n",
    "    width=width,\n",
    "    count=1,  # Single band\n",
    "    dtype=pred_array.dtype,\n",
    "    crs=profile['crs'],\n",
    "    transform=transform,\n",
    ") as dst:\n",
    "    dst.write(pred_array, 1)"
   ]
  },
  {
   "cell_type": "code",
   "execution_count": 192,
   "metadata": {},
   "outputs": [
    {
     "data": {
      "text/plain": [
       "array([ 0.,  1.,  2.,  3., nan])"
      ]
     },
     "execution_count": 192,
     "metadata": {},
     "output_type": "execute_result"
    }
   ],
   "source": [
    "np.unique(pred_array)"
   ]
  },
  {
   "cell_type": "markdown",
   "metadata": {},
   "source": [
    "## Playground"
   ]
  },
  {
   "cell_type": "code",
   "execution_count": 30,
   "metadata": {},
   "outputs": [],
   "source": [
    "h_idx = np.random.randint(height-block_size+1, size=10)"
   ]
  },
  {
   "cell_type": "markdown",
   "metadata": {},
   "source": []
  },
  {
   "cell_type": "code",
   "execution_count": 31,
   "metadata": {},
   "outputs": [
    {
     "data": {
      "text/plain": [
       "array([2027, 1015, 1286, 2051, 1881, 1965,    9, 1454, 1795, 1125])"
      ]
     },
     "execution_count": 31,
     "metadata": {},
     "output_type": "execute_result"
    }
   ],
   "source": [
    "h_idx"
   ]
  },
  {
   "cell_type": "code",
   "execution_count": 188,
   "metadata": {},
   "outputs": [
    {
     "data": {
      "text/plain": [
       "(2211, 2239)"
      ]
     },
     "execution_count": 188,
     "metadata": {},
     "output_type": "execute_result"
    }
   ],
   "source": [
    "height, width"
   ]
  },
  {
   "cell_type": "code",
   "execution_count": 200,
   "metadata": {},
   "outputs": [
    {
     "data": {
      "text/plain": [
       "dtype('float64')"
      ]
     },
     "execution_count": 200,
     "metadata": {},
     "output_type": "execute_result"
    }
   ],
   "source": [
    "pred_array.dtype"
   ]
  },
  {
   "cell_type": "code",
   "execution_count": null,
   "metadata": {},
   "outputs": [],
   "source": []
  }
 ],
 "metadata": {
  "kernelspec": {
   "display_name": "urban_venv",
   "language": "python",
   "name": "python3"
  },
  "language_info": {
   "codemirror_mode": {
    "name": "ipython",
    "version": 3
   },
   "file_extension": ".py",
   "mimetype": "text/x-python",
   "name": "python",
   "nbconvert_exporter": "python",
   "pygments_lexer": "ipython3",
   "version": "3.12.3"
  }
 },
 "nbformat": 4,
 "nbformat_minor": 2
}
